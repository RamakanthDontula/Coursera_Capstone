{
    "cells": [
        {
            "cell_type": "markdown",
            "metadata": {
                "collapsed": true
            },
            "source": "# Introduction / Business Problem"
        },
        {
            "cell_type": "markdown",
            "metadata": {},
            "source": "### Hyderabad is the capital and largest city of the South Indian state of Telangana. It has a population of over 20 million people spread across 650 square kilometres. Being one of the top IT services companies\u2019 destination in the country, Hyderabad is home to 131 engineering colleges and attracts thousands of students from across the country. \n### One of my friends is interested in setting up a student hostel near engineering colleges and tasked me with zeroing on an area with highest density of engineering college, so that he has a flourishing business. \n### Through this project I will explore Hyderabad for engineering colleges and find area/neighbourhood with highest density of engineering colleges. "
        },
        {
            "cell_type": "markdown",
            "metadata": {},
            "source": "# Data Section"
        },
        {
            "cell_type": "markdown",
            "metadata": {},
            "source": "### There is a python library pgeocode (https://github.com/symerio/pgeocode) which is high performance off-line querying of GPS coordinates, region name and municipality name from postal codes. Distances between postal codes as well as general distance queries are also supported. The used GeoNames database includes postal codes for 83 countries.\n### In this library I used ' index postal_codes' function which creates a data frame of unique postal codes of a given country. The data frame consists of following columns:"
        },
        {
            "cell_type": "markdown",
            "metadata": {},
            "source": "\u2022\tcountry code: iso country code, 2 characters\n\n\u2022\tpostal code: postal code\n\n\u2022\tplace name: place name (e.g. town, city etc)\n\n\u2022\tstate_name: 1. order subdivision (state)\n\n\u2022\tstate_code: 1. order subdivision (state)\n\n\u2022\tcounty_name: 2. order subdivision (county/province)\n\n\u2022\tcounty_code: 2. order subdivision (county/province)\n\n\u2022\tcommunity_name: 3. order subdivision (community)\n\n\u2022\tcommunity_code: 3. order subdivision (community)\n\n\u2022\tlatitude: estimated latitude (wgs84)\n\n\u2022\tlongitude: estimated longitude (wgs84)\n\n\u2022\taccuracy: accuracy of lat/lng from 1=estimated to 6=centroid"
        },
        {
            "cell_type": "markdown",
            "metadata": {},
            "source": "### Using this function I first I obtain postal code details of entire India and then query the data to have only postal codes of Hyderabad. The data would look like the following:"
        },
        {
            "cell_type": "markdown",
            "metadata": {},
            "source": "### Since images are not shown in github, here is the link (https://github.com/RamakanthDontula/Coursera_Capstone/blob/master/Introduction%20Business%20Problem)"
        },
        {
            "cell_type": "code",
            "execution_count": null,
            "metadata": {},
            "outputs": [],
            "source": ""
        }
    ],
    "metadata": {
        "kernelspec": {
            "display_name": "Python 3.6",
            "language": "python",
            "name": "python3"
        },
        "language_info": {
            "codemirror_mode": {
                "name": "ipython",
                "version": 3
            },
            "file_extension": ".py",
            "mimetype": "text/x-python",
            "name": "python",
            "nbconvert_exporter": "python",
            "pygments_lexer": "ipython3",
            "version": "3.6.9"
        }
    },
    "nbformat": 4,
    "nbformat_minor": 1
}
