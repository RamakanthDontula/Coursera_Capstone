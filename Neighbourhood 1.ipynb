{
    "cells": [
        {
            "cell_type": "code",
            "execution_count": 1,
            "metadata": {},
            "outputs": [],
            "source": "#reading the webpage using pandas\nimport pandas as pd\ndf=pd.read_html(\"https://en.wikipedia.org/wiki/List_of_postal_codes_of_Canada:_M\")[0]"
        },
        {
            "cell_type": "code",
            "execution_count": 2,
            "metadata": {},
            "outputs": [
                {
                    "data": {
                        "text/plain": "(287, 3)"
                    },
                    "execution_count": 2,
                    "metadata": {},
                    "output_type": "execute_result"
                }
            ],
            "source": "#intial shape of the dataframe\ndf.shape"
        },
        {
            "cell_type": "code",
            "execution_count": 3,
            "metadata": {},
            "outputs": [],
            "source": "#indexing the 'Not assigned' Boroughs\nindexNames = df[df['Borough']=='Not assigned'].index"
        },
        {
            "cell_type": "code",
            "execution_count": 4,
            "metadata": {},
            "outputs": [],
            "source": "#Dropping the Indexed 'Not assigned' Boroughs\ndf.drop(indexNames, inplace=True)"
        },
        {
            "cell_type": "code",
            "execution_count": 5,
            "metadata": {},
            "outputs": [
                {
                    "data": {
                        "text/plain": "(210, 3)"
                    },
                    "execution_count": 5,
                    "metadata": {},
                    "output_type": "execute_result"
                }
            ],
            "source": "#Dataframe dimensions after dropping 'Not assigned' Boroughs\ndf.shape"
        },
        {
            "cell_type": "code",
            "execution_count": 6,
            "metadata": {},
            "outputs": [],
            "source": "#Grouping by Postcode\ndf=df.groupby(['Postcode', 'Borough']) ['Neighbourhood'].apply (list)\ndf=df.sample(frac=1).reset_index()\ndf['Neighbourhood']=df['Neighbourhood'].str.join(',')"
        },
        {
            "cell_type": "code",
            "execution_count": 7,
            "metadata": {},
            "outputs": [
                {
                    "data": {
                        "text/html": "<div>\n<style scoped>\n    .dataframe tbody tr th:only-of-type {\n        vertical-align: middle;\n    }\n\n    .dataframe tbody tr th {\n        vertical-align: top;\n    }\n\n    .dataframe thead th {\n        text-align: right;\n    }\n</style>\n<table border=\"1\" class=\"dataframe\">\n  <thead>\n    <tr style=\"text-align: right;\">\n      <th></th>\n      <th>Postcode</th>\n      <th>Borough</th>\n      <th>Neighbourhood</th>\n    </tr>\n  </thead>\n  <tbody>\n    <tr>\n      <th>46</th>\n      <td>M9A</td>\n      <td>Queen's Park</td>\n      <td>Not assigned</td>\n    </tr>\n  </tbody>\n</table>\n</div>",
                        "text/plain": "   Postcode       Borough Neighbourhood\n46      M9A  Queen's Park  Not assigned"
                    },
                    "execution_count": 7,
                    "metadata": {},
                    "output_type": "execute_result"
                }
            ],
            "source": "df.loc[df['Postcode']=='M9A']"
        },
        {
            "cell_type": "code",
            "execution_count": 8,
            "metadata": {},
            "outputs": [],
            "source": "#replacing Neighbourhood value 'Not assigned' with Borough value for Postcode M9A \ndf.loc[(df.Postcode == 'M9A'),'Neighbourhood']=df['Borough']"
        },
        {
            "cell_type": "code",
            "execution_count": 9,
            "metadata": {},
            "outputs": [
                {
                    "data": {
                        "text/html": "<div>\n<style scoped>\n    .dataframe tbody tr th:only-of-type {\n        vertical-align: middle;\n    }\n\n    .dataframe tbody tr th {\n        vertical-align: top;\n    }\n\n    .dataframe thead th {\n        text-align: right;\n    }\n</style>\n<table border=\"1\" class=\"dataframe\">\n  <thead>\n    <tr style=\"text-align: right;\">\n      <th></th>\n      <th>Postcode</th>\n      <th>Borough</th>\n      <th>Neighbourhood</th>\n    </tr>\n  </thead>\n  <tbody>\n    <tr>\n      <th>46</th>\n      <td>M9A</td>\n      <td>Queen's Park</td>\n      <td>Queen's Park</td>\n    </tr>\n  </tbody>\n</table>\n</div>",
                        "text/plain": "   Postcode       Borough Neighbourhood\n46      M9A  Queen's Park  Queen's Park"
                    },
                    "execution_count": 9,
                    "metadata": {},
                    "output_type": "execute_result"
                }
            ],
            "source": "#checking if the \ndf.loc[df['Postcode']=='M9A']"
        },
        {
            "cell_type": "code",
            "execution_count": 10,
            "metadata": {},
            "outputs": [
                {
                    "data": {
                        "text/plain": "(103, 3)"
                    },
                    "execution_count": 10,
                    "metadata": {},
                    "output_type": "execute_result"
                }
            ],
            "source": "#shape of the dataframe\ndf.shape"
        },
        {
            "cell_type": "code",
            "execution_count": 11,
            "metadata": {},
            "outputs": [
                {
                    "data": {
                        "text/html": "<div>\n<style scoped>\n    .dataframe tbody tr th:only-of-type {\n        vertical-align: middle;\n    }\n\n    .dataframe tbody tr th {\n        vertical-align: top;\n    }\n\n    .dataframe thead th {\n        text-align: right;\n    }\n</style>\n<table border=\"1\" class=\"dataframe\">\n  <thead>\n    <tr style=\"text-align: right;\">\n      <th></th>\n      <th>Postcode</th>\n      <th>Borough</th>\n      <th>Neighbourhood</th>\n    </tr>\n  </thead>\n  <tbody>\n    <tr>\n      <th>0</th>\n      <td>M1E</td>\n      <td>Scarborough</td>\n      <td>Guildwood,Morningside,West Hill</td>\n    </tr>\n    <tr>\n      <th>1</th>\n      <td>M9M</td>\n      <td>North York</td>\n      <td>Emery,Humberlea</td>\n    </tr>\n    <tr>\n      <th>2</th>\n      <td>M5B</td>\n      <td>Downtown Toronto</td>\n      <td>Ryerson,Garden District</td>\n    </tr>\n    <tr>\n      <th>3</th>\n      <td>M1S</td>\n      <td>Scarborough</td>\n      <td>Agincourt</td>\n    </tr>\n    <tr>\n      <th>4</th>\n      <td>M1W</td>\n      <td>Scarborough</td>\n      <td>L'Amoreaux West</td>\n    </tr>\n    <tr>\n      <th>5</th>\n      <td>M5R</td>\n      <td>Central Toronto</td>\n      <td>The Annex,North Midtown,Yorkville</td>\n    </tr>\n    <tr>\n      <th>6</th>\n      <td>M3A</td>\n      <td>North York</td>\n      <td>Parkwoods</td>\n    </tr>\n    <tr>\n      <th>7</th>\n      <td>M8Y</td>\n      <td>Etobicoke</td>\n      <td>Humber Bay,King's Mill Park,Kingsway Park Sout...</td>\n    </tr>\n    <tr>\n      <th>8</th>\n      <td>M2N</td>\n      <td>North York</td>\n      <td>Willowdale South</td>\n    </tr>\n    <tr>\n      <th>9</th>\n      <td>M9V</td>\n      <td>Etobicoke</td>\n      <td>Albion Gardens,Beaumond Heights,Humbergate,Jam...</td>\n    </tr>\n    <tr>\n      <th>10</th>\n      <td>M9N</td>\n      <td>York</td>\n      <td>Weston</td>\n    </tr>\n    <tr>\n      <th>11</th>\n      <td>M8W</td>\n      <td>Etobicoke</td>\n      <td>Alderwood,Long Branch</td>\n    </tr>\n    <tr>\n      <th>12</th>\n      <td>M2L</td>\n      <td>North York</td>\n      <td>Silver Hills,York Mills</td>\n    </tr>\n    <tr>\n      <th>13</th>\n      <td>M6E</td>\n      <td>York</td>\n      <td>Caledonia-Fairbanks</td>\n    </tr>\n    <tr>\n      <th>14</th>\n      <td>M5N</td>\n      <td>Central Toronto</td>\n      <td>Roselawn</td>\n    </tr>\n    <tr>\n      <th>15</th>\n      <td>M4X</td>\n      <td>Downtown Toronto</td>\n      <td>Cabbagetown,St. James Town</td>\n    </tr>\n    <tr>\n      <th>16</th>\n      <td>M5K</td>\n      <td>Downtown Toronto</td>\n      <td>Design Exchange,Toronto Dominion Centre</td>\n    </tr>\n    <tr>\n      <th>17</th>\n      <td>M9P</td>\n      <td>Etobicoke</td>\n      <td>Westmount</td>\n    </tr>\n    <tr>\n      <th>18</th>\n      <td>M6K</td>\n      <td>West Toronto</td>\n      <td>Brockton,Exhibition Place,Parkdale Village</td>\n    </tr>\n    <tr>\n      <th>19</th>\n      <td>M6A</td>\n      <td>North York</td>\n      <td>Lawrence Heights,Lawrence Manor</td>\n    </tr>\n    <tr>\n      <th>20</th>\n      <td>M1X</td>\n      <td>Scarborough</td>\n      <td>Upper Rouge</td>\n    </tr>\n    <tr>\n      <th>21</th>\n      <td>M9C</td>\n      <td>Etobicoke</td>\n      <td>Bloordale Gardens,Eringate,Markland Wood,Old B...</td>\n    </tr>\n    <tr>\n      <th>22</th>\n      <td>M5L</td>\n      <td>Downtown Toronto</td>\n      <td>Commerce Court,Victoria Hotel</td>\n    </tr>\n    <tr>\n      <th>23</th>\n      <td>M4P</td>\n      <td>Central Toronto</td>\n      <td>Davisville North</td>\n    </tr>\n    <tr>\n      <th>24</th>\n      <td>M3L</td>\n      <td>North York</td>\n      <td>Downsview West</td>\n    </tr>\n    <tr>\n      <th>25</th>\n      <td>M4T</td>\n      <td>Central Toronto</td>\n      <td>Moore Park,Summerhill East</td>\n    </tr>\n    <tr>\n      <th>26</th>\n      <td>M1N</td>\n      <td>Scarborough</td>\n      <td>Birch Cliff,Cliffside West</td>\n    </tr>\n    <tr>\n      <th>27</th>\n      <td>M4J</td>\n      <td>East York</td>\n      <td>East Toronto</td>\n    </tr>\n    <tr>\n      <th>28</th>\n      <td>M4E</td>\n      <td>East Toronto</td>\n      <td>The Beaches</td>\n    </tr>\n    <tr>\n      <th>29</th>\n      <td>M6H</td>\n      <td>West Toronto</td>\n      <td>Dovercourt Village,Dufferin</td>\n    </tr>\n    <tr>\n      <th>...</th>\n      <td>...</td>\n      <td>...</td>\n      <td>...</td>\n    </tr>\n    <tr>\n      <th>73</th>\n      <td>M2J</td>\n      <td>North York</td>\n      <td>Fairview,Henry Farm,Oriole</td>\n    </tr>\n    <tr>\n      <th>74</th>\n      <td>M4C</td>\n      <td>East York</td>\n      <td>Woodbine Heights</td>\n    </tr>\n    <tr>\n      <th>75</th>\n      <td>M5V</td>\n      <td>Downtown Toronto</td>\n      <td>CN Tower,Bathurst Quay,Island airport,Harbourf...</td>\n    </tr>\n    <tr>\n      <th>76</th>\n      <td>M8V</td>\n      <td>Etobicoke</td>\n      <td>Humber Bay Shores,Mimico South,New Toronto</td>\n    </tr>\n    <tr>\n      <th>77</th>\n      <td>M4V</td>\n      <td>Central Toronto</td>\n      <td>Deer Park,Forest Hill SE,Rathnelly,South Hill,...</td>\n    </tr>\n    <tr>\n      <th>78</th>\n      <td>M1K</td>\n      <td>Scarborough</td>\n      <td>East Birchmount Park,Ionview,Kennedy Park</td>\n    </tr>\n    <tr>\n      <th>79</th>\n      <td>M3N</td>\n      <td>North York</td>\n      <td>Downsview Northwest</td>\n    </tr>\n    <tr>\n      <th>80</th>\n      <td>M2K</td>\n      <td>North York</td>\n      <td>Bayview Village</td>\n    </tr>\n    <tr>\n      <th>81</th>\n      <td>M5G</td>\n      <td>Downtown Toronto</td>\n      <td>Central Bay Street</td>\n    </tr>\n    <tr>\n      <th>82</th>\n      <td>M5X</td>\n      <td>Downtown Toronto</td>\n      <td>First Canadian Place,Underground city</td>\n    </tr>\n    <tr>\n      <th>83</th>\n      <td>M9B</td>\n      <td>Etobicoke</td>\n      <td>Cloverdale,Islington,Martin Grove,Princess Gar...</td>\n    </tr>\n    <tr>\n      <th>84</th>\n      <td>M5H</td>\n      <td>Downtown Toronto</td>\n      <td>Adelaide,King,Richmond</td>\n    </tr>\n    <tr>\n      <th>85</th>\n      <td>M1P</td>\n      <td>Scarborough</td>\n      <td>Dorset Park,Scarborough Town Centre,Wexford He...</td>\n    </tr>\n    <tr>\n      <th>86</th>\n      <td>M8Z</td>\n      <td>Etobicoke</td>\n      <td>Kingsway Park South West,Mimico NW,The Queensw...</td>\n    </tr>\n    <tr>\n      <th>87</th>\n      <td>M4K</td>\n      <td>East Toronto</td>\n      <td>The Danforth West,Riverdale</td>\n    </tr>\n    <tr>\n      <th>88</th>\n      <td>M4S</td>\n      <td>Central Toronto</td>\n      <td>Davisville</td>\n    </tr>\n    <tr>\n      <th>89</th>\n      <td>M6R</td>\n      <td>West Toronto</td>\n      <td>Parkdale,Roncesvalles</td>\n    </tr>\n    <tr>\n      <th>90</th>\n      <td>M1V</td>\n      <td>Scarborough</td>\n      <td>Agincourt North,L'Amoreaux East,Milliken,Steel...</td>\n    </tr>\n    <tr>\n      <th>91</th>\n      <td>M6B</td>\n      <td>North York</td>\n      <td>Glencairn</td>\n    </tr>\n    <tr>\n      <th>92</th>\n      <td>M3B</td>\n      <td>North York</td>\n      <td>Don Mills North</td>\n    </tr>\n    <tr>\n      <th>93</th>\n      <td>M8X</td>\n      <td>Etobicoke</td>\n      <td>The Kingsway,Montgomery Road,Old Mill North</td>\n    </tr>\n    <tr>\n      <th>94</th>\n      <td>M2R</td>\n      <td>North York</td>\n      <td>Willowdale West</td>\n    </tr>\n    <tr>\n      <th>95</th>\n      <td>M3K</td>\n      <td>North York</td>\n      <td>CFB Toronto,Downsview East</td>\n    </tr>\n    <tr>\n      <th>96</th>\n      <td>M7Y</td>\n      <td>East Toronto</td>\n      <td>Business Reply Mail Processing Centre 969 Eastern</td>\n    </tr>\n    <tr>\n      <th>97</th>\n      <td>M5A</td>\n      <td>Downtown Toronto</td>\n      <td>Harbourfront</td>\n    </tr>\n    <tr>\n      <th>98</th>\n      <td>M7A</td>\n      <td>Downtown Toronto</td>\n      <td>Queen's Park</td>\n    </tr>\n    <tr>\n      <th>99</th>\n      <td>M1R</td>\n      <td>Scarborough</td>\n      <td>Maryvale,Wexford</td>\n    </tr>\n    <tr>\n      <th>100</th>\n      <td>M6N</td>\n      <td>York</td>\n      <td>The Junction North,Runnymede</td>\n    </tr>\n    <tr>\n      <th>101</th>\n      <td>M1C</td>\n      <td>Scarborough</td>\n      <td>Highland Creek,Rouge Hill,Port Union</td>\n    </tr>\n    <tr>\n      <th>102</th>\n      <td>M1L</td>\n      <td>Scarborough</td>\n      <td>Clairlea,Golden Mile,Oakridge</td>\n    </tr>\n  </tbody>\n</table>\n<p>103 rows \u00d7 3 columns</p>\n</div>",
                        "text/plain": "    Postcode           Borough  \\\n0        M1E       Scarborough   \n1        M9M        North York   \n2        M5B  Downtown Toronto   \n3        M1S       Scarborough   \n4        M1W       Scarborough   \n5        M5R   Central Toronto   \n6        M3A        North York   \n7        M8Y         Etobicoke   \n8        M2N        North York   \n9        M9V         Etobicoke   \n10       M9N              York   \n11       M8W         Etobicoke   \n12       M2L        North York   \n13       M6E              York   \n14       M5N   Central Toronto   \n15       M4X  Downtown Toronto   \n16       M5K  Downtown Toronto   \n17       M9P         Etobicoke   \n18       M6K      West Toronto   \n19       M6A        North York   \n20       M1X       Scarborough   \n21       M9C         Etobicoke   \n22       M5L  Downtown Toronto   \n23       M4P   Central Toronto   \n24       M3L        North York   \n25       M4T   Central Toronto   \n26       M1N       Scarborough   \n27       M4J         East York   \n28       M4E      East Toronto   \n29       M6H      West Toronto   \n..       ...               ...   \n73       M2J        North York   \n74       M4C         East York   \n75       M5V  Downtown Toronto   \n76       M8V         Etobicoke   \n77       M4V   Central Toronto   \n78       M1K       Scarborough   \n79       M3N        North York   \n80       M2K        North York   \n81       M5G  Downtown Toronto   \n82       M5X  Downtown Toronto   \n83       M9B         Etobicoke   \n84       M5H  Downtown Toronto   \n85       M1P       Scarborough   \n86       M8Z         Etobicoke   \n87       M4K      East Toronto   \n88       M4S   Central Toronto   \n89       M6R      West Toronto   \n90       M1V       Scarborough   \n91       M6B        North York   \n92       M3B        North York   \n93       M8X         Etobicoke   \n94       M2R        North York   \n95       M3K        North York   \n96       M7Y      East Toronto   \n97       M5A  Downtown Toronto   \n98       M7A  Downtown Toronto   \n99       M1R       Scarborough   \n100      M6N              York   \n101      M1C       Scarborough   \n102      M1L       Scarborough   \n\n                                         Neighbourhood  \n0                      Guildwood,Morningside,West Hill  \n1                                      Emery,Humberlea  \n2                              Ryerson,Garden District  \n3                                            Agincourt  \n4                                      L'Amoreaux West  \n5                    The Annex,North Midtown,Yorkville  \n6                                            Parkwoods  \n7    Humber Bay,King's Mill Park,Kingsway Park Sout...  \n8                                     Willowdale South  \n9    Albion Gardens,Beaumond Heights,Humbergate,Jam...  \n10                                              Weston  \n11                               Alderwood,Long Branch  \n12                             Silver Hills,York Mills  \n13                                 Caledonia-Fairbanks  \n14                                            Roselawn  \n15                          Cabbagetown,St. James Town  \n16             Design Exchange,Toronto Dominion Centre  \n17                                           Westmount  \n18          Brockton,Exhibition Place,Parkdale Village  \n19                     Lawrence Heights,Lawrence Manor  \n20                                         Upper Rouge  \n21   Bloordale Gardens,Eringate,Markland Wood,Old B...  \n22                       Commerce Court,Victoria Hotel  \n23                                    Davisville North  \n24                                      Downsview West  \n25                          Moore Park,Summerhill East  \n26                          Birch Cliff,Cliffside West  \n27                                        East Toronto  \n28                                         The Beaches  \n29                         Dovercourt Village,Dufferin  \n..                                                 ...  \n73                          Fairview,Henry Farm,Oriole  \n74                                    Woodbine Heights  \n75   CN Tower,Bathurst Quay,Island airport,Harbourf...  \n76          Humber Bay Shores,Mimico South,New Toronto  \n77   Deer Park,Forest Hill SE,Rathnelly,South Hill,...  \n78           East Birchmount Park,Ionview,Kennedy Park  \n79                                 Downsview Northwest  \n80                                     Bayview Village  \n81                                  Central Bay Street  \n82               First Canadian Place,Underground city  \n83   Cloverdale,Islington,Martin Grove,Princess Gar...  \n84                              Adelaide,King,Richmond  \n85   Dorset Park,Scarborough Town Centre,Wexford He...  \n86   Kingsway Park South West,Mimico NW,The Queensw...  \n87                         The Danforth West,Riverdale  \n88                                          Davisville  \n89                               Parkdale,Roncesvalles  \n90   Agincourt North,L'Amoreaux East,Milliken,Steel...  \n91                                           Glencairn  \n92                                     Don Mills North  \n93         The Kingsway,Montgomery Road,Old Mill North  \n94                                     Willowdale West  \n95                          CFB Toronto,Downsview East  \n96   Business Reply Mail Processing Centre 969 Eastern  \n97                                        Harbourfront  \n98                                        Queen's Park  \n99                                    Maryvale,Wexford  \n100                       The Junction North,Runnymede  \n101               Highland Creek,Rouge Hill,Port Union  \n102                      Clairlea,Golden Mile,Oakridge  \n\n[103 rows x 3 columns]"
                    },
                    "execution_count": 11,
                    "metadata": {},
                    "output_type": "execute_result"
                }
            ],
            "source": "df"
        },
        {
            "cell_type": "code",
            "execution_count": null,
            "metadata": {},
            "outputs": [],
            "source": ""
        }
    ],
    "metadata": {
        "kernelspec": {
            "display_name": "Python 3.6",
            "language": "python",
            "name": "python3"
        },
        "language_info": {
            "codemirror_mode": {
                "name": "ipython",
                "version": 3
            },
            "file_extension": ".py",
            "mimetype": "text/x-python",
            "name": "python",
            "nbconvert_exporter": "python",
            "pygments_lexer": "ipython3",
            "version": "3.6.9"
        }
    },
    "nbformat": 4,
    "nbformat_minor": 1
}